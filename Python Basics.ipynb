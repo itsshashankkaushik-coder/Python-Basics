{
 "cells": [
  {
   "cell_type": "raw",
   "id": "520ef5f9-94f5-4ede-b195-b7f28c40754e",
   "metadata": {},
   "source": [
    "Python Basics\n"
   ]
  },
  {
   "cell_type": "raw",
   "id": "84c82cbf-27b8-42ec-b284-b107cdf0508e",
   "metadata": {},
   "source": [
    "1.What is Python, and why is it popular?\n",
    "- Python is high-level, interpreted programming language known for its readibility and easy to use for the beginners.\n",
    "- Python is popular for:\n",
    " - Easy to use and understandable.\n",
    " - Used by beginners and professionals.\n",
    " - Strong community support.\n",
    " - Beneficial for the data scientists."
   ]
  },
  {
   "cell_type": "raw",
   "id": "6a783586-8fac-40dd-b182-5322107f9f10",
   "metadata": {},
   "source": [
    "2.What is an interpretor in Python?\n",
    "- An interpreter in the python is a program that read the code line by line and execute it accordingly rather than compiling the entire code at once like other languages.\n"
   ]
  },
  {
   "cell_type": "raw",
   "id": "69f7222e-e8b2-42bc-b68f-f83160206d57",
   "metadata": {},
   "source": [
    "3.What are pre-defined keywords in python?\n",
    "- Predefined keywords in python are special words that hace specific meanings and not even used as variable names and function names.\n",
    "They are reserved because Python uses them for its own syntax for example - for defining conditions, loops, functions, classes, list, etc."
   ]
  },
  {
   "cell_type": "raw",
   "id": "793dca6e-11bc-485c-bc37-aa70b280f10d",
   "metadata": {},
   "source": [
    "4.Can keywords be used as variable names?\n",
    "- No keywords can't be used as a varialbe names because they are also called as the reserved words that have special meaning in the python's syntax."
   ]
  },
  {
   "cell_type": "raw",
   "id": "063721e6-de36-40a7-9453-8830632ce2e0",
   "metadata": {},
   "source": [
    "5.What is mutability in Python?\n",
    "- Mutability means the ability of an object to be modified in place, without creating a new object."
   ]
  },
  {
   "cell_type": "raw",
   "id": "971e05d8-415e-4386-98c6-d1d75b06a736",
   "metadata": {},
   "source": [
    "6.Why are lists mutable, but tuples are immutable?\n",
    "- Mutable - (A list in python, you can change, add and remove items)\n",
    "- Immutable - (A tuple in python, you cannot change its contents once created)"
   ]
  },
  {
   "cell_type": "raw",
   "id": "8262b35b-fc18-4070-bce8-221f95b6d84d",
   "metadata": {},
   "source": [
    "7.What is the difference between \"==\" and \"is\" operators in python?\n",
    "- \"==\" is used as to compare the values \n",
    "  \"is\" that one is used as on the place to know the identity of the values"
   ]
  },
  {
   "cell_type": "raw",
   "id": "46983da5-de48-45a3-8014-aa737b86a795",
   "metadata": {},
   "source": [
    "8.What are logical operators in Python?\n",
    "- In Python logical operators are used to combine conditional booolean statements.\n",
    "They help us to make decisions on true and false values.\n",
    "        and - Returns True if both the statements are true.\n",
    "        or  - Returns True if one statement is true.\n",
    "        not - Reverse the result - returns the false if statement is true."
   ]
  },
  {
   "cell_type": "raw",
   "id": "bf4df344-70c8-431b-ade6-414165a03e2c",
   "metadata": {},
   "source": [
    "9.What is type casting in python?\n",
    "- Changing the type of the alloted values from interger to float and integer to string in within the code without any type of breakage in the code."
   ]
  },
  {
   "cell_type": "raw",
   "id": "2be0b2b2-0b27-4110-837e-9c0f005d6bcf",
   "metadata": {},
   "source": [
    "10.What is the difference implicit and explicit type of casting?\n",
    "- Implicit casting - Python automatically converts one data type to another without user involvement\n",
    "- Explicit casting - The user manually converts one data type of another using built-in functions."
   ]
  },
  {
   "cell_type": "raw",
   "id": "ee6127e3-9bbf-4994-a493-d4c781f030f3",
   "metadata": {},
   "source": [
    "11.What is the purpose of conditional statement in Python?\n",
    "- The purpose of the conditional statement in Python is to make decisions in a program based on certain conditions.\n",
    "they will allow you to execute specific blocks of code only when a condition is true, and skip or run other blocks when it is false."
   ]
  },
  {
   "cell_type": "raw",
   "id": "c48126c1-e6e2-42e4-90da-6ea2402d623c",
   "metadata": {},
   "source": [
    "12.How does the elif statement work?\n",
    "- The elif statement in Python stands for \"else if\" - it's used to check multiple conditions one by one after an if statement. It only runs if the previous if condition was false, and its own condition is true."
   ]
  },
  {
   "cell_type": "raw",
   "id": "fdb54f84-a7f3-4f0f-b11d-b400c94c5199",
   "metadata": {},
   "source": [
    "13. What is the difference between for and while loops?\n",
    "- for Loop - Used when you know how many times you want to repeat a block of code.\n",
    "  while loop - Used when you want to repeat code until a certain condition becomes false."
   ]
  },
  {
   "cell_type": "raw",
   "id": "1d86d29e-a592-42d0-a5ff-d2c8b80cb414",
   "metadata": {},
   "source": [
    "14. Describe a scenario where a while loop is more suitable than a for loop.\n",
    "- While loop is beneficial in user input methods as like user login system \n",
    "you want to keep asking the user for their password until they enter the corrent one. \n",
    "In for loop when you don't know in advance how many times the loop needs to run-that is, when the number of iterations depends on a conditions rather than a fixed range."
   ]
  },
  {
   "cell_type": "code",
   "execution_count": 1,
   "id": "2ae5d08a-c4e1-4a49-87c3-517de35ca575",
   "metadata": {},
   "outputs": [
    {
     "name": "stdout",
     "output_type": "stream",
     "text": [
      "Hello, World!\n"
     ]
    }
   ],
   "source": [
    "#1.Write a python program to print \"Hello, World!\"\n",
    "print(\"Hello, World!\")"
   ]
  },
  {
   "cell_type": "code",
   "execution_count": 5,
   "id": "5d088918-6278-41fd-8f0d-3f1fab8a504a",
   "metadata": {},
   "outputs": [
    {
     "name": "stdout",
     "output_type": "stream",
     "text": [
      "My name is Shashank\n",
      "I am 20 years old\n"
     ]
    }
   ],
   "source": [
    "#2.Write a python program that displays your name and age.\n",
    "name=\"Shashank\"\n",
    "Age=20\n",
    "print(\"My name is\",name)\n",
    "print(\"I am\",Age,\"years old\")"
   ]
  },
  {
   "cell_type": "code",
   "execution_count": 7,
   "id": "59a265e8-de49-4d5c-9825-5b7c7c398903",
   "metadata": {},
   "outputs": [
    {
     "name": "stdout",
     "output_type": "stream",
     "text": [
      "\n",
      "Here is a list of the Python keywords.  Enter any keyword to get more help.\n",
      "\n",
      "False               class               from                or\n",
      "None                continue            global              pass\n",
      "True                def                 if                  raise\n",
      "and                 del                 import              return\n",
      "as                  elif                in                  try\n",
      "assert              else                is                  while\n",
      "async               except              lambda              with\n",
      "await               finally             nonlocal            yield\n",
      "break               for                 not                 \n",
      "\n"
     ]
    }
   ],
   "source": [
    "#3.Write code to print all the pre-defined keywords in python using the keyword library.\n",
    "help('keywords')"
   ]
  },
  {
   "cell_type": "code",
   "execution_count": 8,
   "id": "312baa50-1fea-4319-8c96-0ea6bcdf8e91",
   "metadata": {},
   "outputs": [
    {
     "name": "stdin",
     "output_type": "stream",
     "text": [
      "Enter the word:  class\n"
     ]
    },
    {
     "name": "stdout",
     "output_type": "stream",
     "text": [
      "'class' is a python keyword.\n"
     ]
    }
   ],
   "source": [
    "#4.Write a program that checks if a given word is a python keyword.\n",
    "import keyword \n",
    "word=input(\"Enter the word: \")\n",
    "if keyword.iskeyword(word):\n",
    "    print(f\"'{word}' is a python keyword.\")\n",
    "else:\n",
    "    print(f\"'{word}' is not a python keyword.\")"
   ]
  },
  {
   "cell_type": "code",
   "execution_count": 27,
   "id": "589e6985-96cd-43ae-b72c-3f078fff52b0",
   "metadata": {},
   "outputs": [
    {
     "name": "stdout",
     "output_type": "stream",
     "text": [
      "original list [1, 2, 3, 4]\n",
      "original tuple [1, 2, 3, 4]\n",
      "list after modification: [1, 20, 3, 4]\n"
     ]
    }
   ],
   "source": [
    "#5.Create a list and tuple in python, and demonstrate how attempting to change an element works differently for each.\n",
    "my_list=[1,2,3,4]\n",
    "my_tuple=[1,2,3,4]\n",
    "print(\"original list\",my_list)\n",
    "print(\"original tuple\",my_tuple)\n",
    "\n",
    "#modifying an element in the list\n",
    "my_list[1]=20\n",
    "print(\"list after modification:\",my_list)\n",
    "\n",
    "#modifying element in tuple \n",
    "try:\n",
    "    my_tuple[1]=20\n",
    "except:\n",
    "    print(\"Tuple objects can't change after made\")\n"
   ]
  },
  {
   "cell_type": "code",
   "execution_count": 32,
   "id": "92909f36-a2d7-4a08-873f-5b8bbe29423b",
   "metadata": {},
   "outputs": [
    {
     "name": "stdout",
     "output_type": "stream",
     "text": [
      "Before function call:\n",
      "x = 10\n",
      "y = [1, 2, 3]\n",
      "Inside function:\n",
      "a = 15\n",
      "b = [1, 2, 3, 5]\n",
      "\n",
      "After function call:\n",
      "x = 10\n",
      "y = [1, 2, 3, 5]\n"
     ]
    }
   ],
   "source": [
    "#6.Write a funtion to demonstrate the behaviour of mutable and immutable arguments.\n",
    "def modify(a,b):\n",
    "    a = a + 5          # Immutable operation (int)\n",
    "    b.append(5)        # Mutable operation (list)\n",
    "    print(\"Inside function:\")\n",
    "    print(\"a =\", a)\n",
    "    print(\"b =\", b)\n",
    "\n",
    "# Immutable object (integer)\n",
    "x = 10\n",
    "# Mutable object (list)\n",
    "y = [1, 2, 3]\n",
    "\n",
    "print(\"Before function call:\")\n",
    "print(\"x =\", x)\n",
    "print(\"y =\", y)\n",
    "\n",
    "# Function call\n",
    "modify(x, y)\n",
    "\n",
    "print(\"\\nAfter function call:\")\n",
    "print(\"x =\", x)\n",
    "print(\"y =\", y)\n"
   ]
  },
  {
   "cell_type": "code",
   "execution_count": 40,
   "id": "f2dad071-46a1-4e38-80a0-3d25ec75bed0",
   "metadata": {},
   "outputs": [
    {
     "name": "stdin",
     "output_type": "stream",
     "text": [
      "Enter the first number: 56\n",
      "Enter the second number: 34\n"
     ]
    },
    {
     "name": "stdout",
     "output_type": "stream",
     "text": [
      "Arithmetic Operations:\n",
      "Addition: 90\n",
      "Subtraction: 90\n",
      "Multiplication: 1904\n"
     ]
    }
   ],
   "source": [
    "#7.Write a program taht performs basic arithmetic operations on two user-input numbers.\n",
    "num1=int(input(\"Enter the first number:\"))\n",
    "num2=int(input(\"Enter the second number:\"))\n",
    "\n",
    "print(\"Arithmetic Operations:\")\n",
    "print(\"Addition:\",num1+num2)\n",
    "print(\"Subtraction:\",num1+num2)\n",
    "print(\"Multiplication:\",num1*num2)"
   ]
  },
  {
   "cell_type": "code",
   "execution_count": 41,
   "id": "e06a3829-3a2f-4038-b444-b662ccdd9d9d",
   "metadata": {},
   "outputs": [
    {
     "name": "stdin",
     "output_type": "stream",
     "text": [
      "Enter first number:  3\n",
      "Enter second number:  56\n"
     ]
    },
    {
     "name": "stdout",
     "output_type": "stream",
     "text": [
      "\n",
      "--- Logical Operators Demonstration ---\n",
      "Both numbers are positive.\n",
      "At least one number is even.\n",
      "It is True that the numbers are equal.\n"
     ]
    }
   ],
   "source": [
    "#8.Write a program to demonstrate the use of logical operators.\n",
    "a = int(input(\"Enter first number: \"))\n",
    "b = int(input(\"Enter second number: \"))\n",
    "\n",
    "print(\"\\n--- Logical Operators Demonstration ---\")\n",
    "\n",
    "# Using 'and' operator\n",
    "if a > 0 and b > 0:\n",
    "    print(\"Both numbers are positive.\")\n",
    "else:\n",
    "    print(\"At least one number is not positive.\")\n",
    "\n",
    "# Using 'or' operator\n",
    "if a % 2 == 0 or b % 2 == 0:\n",
    "    print(\"At least one number is even.\")\n",
    "else:\n",
    "    print(\"Both numbers are odd.\")\n",
    "\n",
    "# Using 'not' operator\n",
    "print(\"It is\", not(a == b), \"that the numbers are equal.\")"
   ]
  },
  {
   "cell_type": "code",
   "execution_count": 42,
   "id": "b30018dd-085e-4a37-a865-1251af3cac49",
   "metadata": {},
   "outputs": [
    {
     "name": "stdin",
     "output_type": "stream",
     "text": [
      "Enter a value:  65\n"
     ]
    },
    {
     "name": "stdout",
     "output_type": "stream",
     "text": [
      "Integer value: 65\n",
      "Float value: 65.0\n",
      "Boolean value: True\n"
     ]
    }
   ],
   "source": [
    "#9.Write a python program to convert user input from string to integer, float and boolean types.\n",
    "\n",
    "# Taking input from the user\n",
    "user_input = input(\"Enter a value: \")\n",
    "\n",
    "# Converting to integer\n",
    "try:\n",
    "    int_value = int(user_input)\n",
    "    print(\"Integer value:\", int_value)\n",
    "except ValueError:\n",
    "    print(\"Cannot convert to integer.\")\n",
    "\n",
    "# Converting to float\n",
    "try:\n",
    "    float_value = float(user_input)\n",
    "    print(\"Float value:\", float_value)\n",
    "except ValueError:\n",
    "    print(\"Cannot convert to float.\")\n",
    "\n",
    "# Converting to boolean\n",
    "# In Python, an empty string ('') is False, everything else is True\n",
    "bool_value = bool(user_input)\n",
    "print(\"Boolean value:\", bool_value)\n"
   ]
  },
  {
   "cell_type": "code",
   "execution_count": 43,
   "id": "a1b69b0e-3e7f-41c3-9452-197440432e25",
   "metadata": {},
   "outputs": [
    {
     "name": "stdout",
     "output_type": "stream",
     "text": [
      "Original list: ['10', '20.5', '30', '40.7', '50']\n",
      "List with elements as integers: [10, 20, 30, 40, 50]\n",
      "List with elements as floats: [10.0, 20.5, 30.0, 40.7, 50.0]\n",
      "List with elements as strings: ['10', '20.5', '30', '40.7', '50']\n",
      "List with elements as boolean: [True, True, True, True, True]\n"
     ]
    }
   ],
   "source": [
    "#10.Write code to demonstrate type casting with list elements\n",
    "\n",
    "# Original list with mixed data as strings\n",
    "original_list = ['10', '20.5', '30', '40.7', '50']\n",
    "\n",
    "print(\"Original list:\", original_list)\n",
    "\n",
    "# Converting all elements to integers (will truncate floats)\n",
    "int_list = [int(float(x)) for x in original_list]\n",
    "print(\"List with elements as integers:\", int_list)\n",
    "\n",
    "# Converting all elements to floats\n",
    "float_list = [float(x) for x in original_list]\n",
    "print(\"List with elements as floats:\", float_list)\n",
    "\n",
    "# Converting all elements to strings (just to show, they are already strings)\n",
    "str_list = [str(x) for x in original_list]\n",
    "print(\"List with elements as strings:\", str_list)\n",
    "\n",
    "# Converting to boolean (empty string -> False, others -> True)\n",
    "bool_list = [bool(x) for x in original_list]\n",
    "print(\"List with elements as boolean:\", bool_list)"
   ]
  },
  {
   "cell_type": "code",
   "execution_count": 46,
   "id": "7aadcd57-81ee-482c-b255-65ae919e9312",
   "metadata": {},
   "outputs": [
    {
     "name": "stdin",
     "output_type": "stream",
     "text": [
      "Enter a number:  67\n"
     ]
    },
    {
     "name": "stdout",
     "output_type": "stream",
     "text": [
      "Positive\n"
     ]
    }
   ],
   "source": [
    "#11.Write a program that checks if a number is positive, negative or zero\n",
    "def check_number(num):\n",
    "    if num > 0:\n",
    "        return \"Positive\"\n",
    "    elif num < 0:\n",
    "        return \"Negative\"\n",
    "    else:\n",
    "        return \"Zero\"\n",
    "\n",
    "num = float(input(\"Enter a number: \"))\n",
    "print(check_number(num))\n"
   ]
  },
  {
   "cell_type": "code",
   "execution_count": 47,
   "id": "79cd7f30-5b68-46ca-9000-8cb5cca7b02c",
   "metadata": {},
   "outputs": [
    {
     "name": "stdout",
     "output_type": "stream",
     "text": [
      "1\n",
      "2\n",
      "3\n",
      "4\n",
      "5\n",
      "6\n",
      "7\n",
      "8\n",
      "9\n",
      "10\n"
     ]
    }
   ],
   "source": [
    "#12.Write a loop to print numbers from 1 to 10.\n",
    "for i in range (1,11):\n",
    "    print(i)\n",
    "    "
   ]
  },
  {
   "cell_type": "code",
   "execution_count": 50,
   "id": "49cabf24-d7ac-473b-9e8b-a4593add4c22",
   "metadata": {},
   "outputs": [
    {
     "name": "stdout",
     "output_type": "stream",
     "text": [
      "sum of even numbers: 650\n"
     ]
    }
   ],
   "source": [
    "#13.Write a python program to find the sum of all even numbers between 1 and 50.\n",
    "sum_even=0\n",
    "for i in range (1,51):\n",
    "    if i % 2==0:\n",
    "        sum_even += i\n",
    "print(\"sum of even numbers:\",sum_even)"
   ]
  },
  {
   "cell_type": "code",
   "execution_count": 52,
   "id": "2c691384-1ed4-45dc-9308-04ba42e403b8",
   "metadata": {},
   "outputs": [
    {
     "name": "stdin",
     "output_type": "stream",
     "text": [
      "Enter a string: Reverse\n"
     ]
    },
    {
     "name": "stdout",
     "output_type": "stream",
     "text": [
      "Reversed string: esreveR\n"
     ]
    }
   ],
   "source": [
    "#14.Write a program to reverse a string using a while loop.\n",
    "def reverse_string(s):\n",
    "    reversed_s = \"\"\n",
    "    i = len(s) - 1\n",
    "    while i >= 0:\n",
    "        reversed_s += s[i]\n",
    "        i -= 1\n",
    "    return reversed_s\n",
    "s=input(\"Enter a string:\")\n",
    "print(\"Reversed string:\",reverse_string(s))"
   ]
  },
  {
   "cell_type": "code",
   "execution_count": 55,
   "id": "1c9f2c98-3bb5-42ad-b520-2b930796f89b",
   "metadata": {},
   "outputs": [
    {
     "name": "stdin",
     "output_type": "stream",
     "text": [
      "Enter a non-negative integer:  9\n"
     ]
    },
    {
     "name": "stdout",
     "output_type": "stream",
     "text": [
      "Factorial of 9 is: 362880\n"
     ]
    }
   ],
   "source": [
    "#15.Write a python program to calculate the factorial of a number provided by the user using a while loop.\n",
    "def calculate_factorial(n):\n",
    "    if n < 0:\n",
    "        return \"Factorial is not defined for negative numbers\"\n",
    "    elif n == 0 or n == 1:\n",
    "        return 1\n",
    "    \n",
    "    factorial = 1\n",
    "    i = 2\n",
    "    while i <= n:\n",
    "        factorial *= i\n",
    "        i += 1\n",
    "    return factorial\n",
    "\n",
    "# Get user input\n",
    "try:\n",
    "    num = int(input(\"Enter a non-negative integer: \"))\n",
    "    result = calculate_factorial(num)\n",
    "    print(f\"Factorial of {num} is: {result}\")\n",
    "except ValueError:\n",
    "    print(\"Invalid input. Please enter an integer.\")"
   ]
  }
 ],
 "metadata": {
  "kernelspec": {
   "display_name": "Python 3 (ipykernel)",
   "language": "python",
   "name": "python3"
  },
  "language_info": {
   "codemirror_mode": {
    "name": "ipython",
    "version": 3
   },
   "file_extension": ".py",
   "mimetype": "text/x-python",
   "name": "python",
   "nbconvert_exporter": "python",
   "pygments_lexer": "ipython3",
   "version": "3.13.7"
  }
 },
 "nbformat": 4,
 "nbformat_minor": 5
}
